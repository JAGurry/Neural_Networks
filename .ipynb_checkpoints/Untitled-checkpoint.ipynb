{
 "cells": [
  {
   "cell_type": "markdown",
   "metadata": {},
   "source": [
    "# RNN\n",
    "\n",
    "\n",
    "Output of a recurrent layer for a single instance: <br/>\n",
    "$\\vec{y}_{(t)} = \\phi(\\vec{X}_{(t)}^{T}\\cdot\\vec{W}_{x}+\\vec{y}_{(t-1)}^{T}\\cdot\\vec{W}_{y}+b)$\n",
    "\n",
    "Outputs of a layer of recurrent neurons for all instances in a mini-batch: <br/>\n",
    "$\\vec{Y}_{(t)} = \\phi(\\vec{X}_{(t)}\\cdot\\vec{W}_{x}+\\vec{Y}_{(t-1)}\\cdot\\vec{W}_{y}+\\vec{b})$ <br/> <br/>\n",
    "$=\\phi([\\vec{X}_{(t)} \\hspace{5mm}  \\vec{Y}_{(t-1)}]\\cdot\\vec{W}+\\vec{b})$ with $\\vec{W}= \\begin{bmatrix} \n",
    "                                                                                           \\vec{W}_{x}\\\\\n",
    "                                                                                           \\vec{W}_{y}\n",
    "                                                                                           \\end{bmatrix}$\n",
    "\n"
   ]
  }
 ],
 "metadata": {
  "kernelspec": {
   "display_name": "Python 3",
   "language": "python",
   "name": "python3"
  },
  "language_info": {
   "codemirror_mode": {
    "name": "ipython",
    "version": 3
   },
   "file_extension": ".py",
   "mimetype": "text/x-python",
   "name": "python",
   "nbconvert_exporter": "python",
   "pygments_lexer": "ipython3",
   "version": "3.7.4"
  }
 },
 "nbformat": 4,
 "nbformat_minor": 4
}
